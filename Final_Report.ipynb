{
 "cells": [
  {
   "cell_type": "markdown",
   "metadata": {},
   "source": [
    "# Capstone Project - Final Report"
   ]
  },
  {
   "cell_type": "markdown",
   "metadata": {},
   "source": [
    "### Introduction/Business Problem"
   ]
  },
  {
   "cell_type": "markdown",
   "metadata": {},
   "source": [
    "Cafes have become incredibly popular in Australia in recent years. Cafe Help is a Coffee Shop Supplies & Repairs business based in Melbourne Australia. Cafe Help provides Cafes with supplies (eg. beans, milk, cups) and repairs (eg. machine and fridge). It is crucially important that Cafe Help is within short proximity of local cafes. \n",
    "\n",
    "Cafe Help has decided to expand to Sydney, Australia and would like to start with three service locations. My capstone project will look to recommend the three best locations for Cafe Help to begin operations in Sydney. \n",
    "\n",
    "This study is explicitly targeted to the management of Cafe Help, however it would also be of interest to other Coffee Shop Supplies & Repairs businesses."
   ]
  },
  {
   "cell_type": "markdown",
   "metadata": {},
   "source": [
    "### Data"
   ]
  },
  {
   "cell_type": "markdown",
   "metadata": {},
   "source": [
    "Cafe Help wants to be within close proximity of local cafes in Sydney. We will therefore use FourSquare data to build a cafe database in the Sydney region. We will then look to analyse cafe density in the Sydney region. We may put an emphasis on the most popular cafes in the region as these cafes need more supplies and repairs. Finally we will look to build clusters to determine our recommended three locations.\n",
    "\n",
    "Foursquare’s Search endpoint will allow us to build up such a database of cafes in the Sydney region. The Likes, Explore and Trending endpoints will allow us to focus on cafes that are more popular. Jupyter Notebooks, Python 3, Pandas will allow us to wrangle, analyse this data. K-means Clustering will allow us to develop density-based clusters. Folium will allow us to present our findings back to the main stakeholders in a way that tells the story.\n"
   ]
  },
  {
   "cell_type": "code",
   "execution_count": null,
   "metadata": {},
   "outputs": [],
   "source": []
  }
 ],
 "metadata": {
  "kernelspec": {
   "display_name": "Python",
   "language": "python",
   "name": "conda-env-python-py"
  },
  "language_info": {
   "codemirror_mode": {
    "name": "ipython",
    "version": 3
   },
   "file_extension": ".py",
   "mimetype": "text/x-python",
   "name": "python",
   "nbconvert_exporter": "python",
   "pygments_lexer": "ipython3",
   "version": "3.6.7"
  }
 },
 "nbformat": 4,
 "nbformat_minor": 4
}
